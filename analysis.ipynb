{
 "cells": [
  {
   "cell_type": "markdown",
   "metadata": {},
   "source": [
    "# Analysis of photos data"
   ]
  },
  {
   "cell_type": "markdown",
   "metadata": {},
   "source": [
    "### Importing required libraries"
   ]
  },
  {
   "cell_type": "code",
   "execution_count": 1,
   "metadata": {},
   "outputs": [],
   "source": [
    "import numpy as np\n",
    "import pandas as pd\n",
    "%matplotlib inline\n",
    "import matplotlib.pyplot as plt"
   ]
  },
  {
   "cell_type": "markdown",
   "metadata": {},
   "source": [
    "##### Read csv file"
   ]
  },
  {
   "cell_type": "code",
   "execution_count": 2,
   "metadata": {},
   "outputs": [],
   "source": [
    "df = pd.read_csv('converted.csv')"
   ]
  },
  {
   "cell_type": "code",
   "execution_count": 3,
   "metadata": {},
   "outputs": [
    {
     "data": {
      "text/html": [
       "<div>\n",
       "<style scoped>\n",
       "    .dataframe tbody tr th:only-of-type {\n",
       "        vertical-align: middle;\n",
       "    }\n",
       "\n",
       "    .dataframe tbody tr th {\n",
       "        vertical-align: top;\n",
       "    }\n",
       "\n",
       "    .dataframe thead th {\n",
       "        text-align: right;\n",
       "    }\n",
       "</style>\n",
       "<table border=\"1\" class=\"dataframe\">\n",
       "  <thead>\n",
       "    <tr style=\"text-align: right;\">\n",
       "      <th></th>\n",
       "      <th>albumId</th>\n",
       "      <th>Id</th>\n",
       "      <th>title</th>\n",
       "      <th>url</th>\n",
       "      <th>thumbnailUrl</th>\n",
       "    </tr>\n",
       "  </thead>\n",
       "  <tbody>\n",
       "    <tr>\n",
       "      <th>0</th>\n",
       "      <td>1</td>\n",
       "      <td>1</td>\n",
       "      <td>accusamus beatae ad facilis cum similique qui ...</td>\n",
       "      <td>https://via.placeholder.com/600/92c952</td>\n",
       "      <td>https://via.placeholder.com/150/92c952</td>\n",
       "    </tr>\n",
       "    <tr>\n",
       "      <th>1</th>\n",
       "      <td>1</td>\n",
       "      <td>2</td>\n",
       "      <td>reprehenderit est deserunt velit ipsam</td>\n",
       "      <td>https://via.placeholder.com/600/771796</td>\n",
       "      <td>https://via.placeholder.com/150/771796</td>\n",
       "    </tr>\n",
       "    <tr>\n",
       "      <th>2</th>\n",
       "      <td>1</td>\n",
       "      <td>3</td>\n",
       "      <td>officia porro iure quia iusto qui ipsa ut modi</td>\n",
       "      <td>https://via.placeholder.com/600/24f355</td>\n",
       "      <td>https://via.placeholder.com/150/24f355</td>\n",
       "    </tr>\n",
       "    <tr>\n",
       "      <th>3</th>\n",
       "      <td>1</td>\n",
       "      <td>4</td>\n",
       "      <td>culpa odio esse rerum omnis laboriosam volupta...</td>\n",
       "      <td>https://via.placeholder.com/600/d32776</td>\n",
       "      <td>https://via.placeholder.com/150/d32776</td>\n",
       "    </tr>\n",
       "    <tr>\n",
       "      <th>4</th>\n",
       "      <td>1</td>\n",
       "      <td>5</td>\n",
       "      <td>natus nisi omnis corporis facere molestiae rer...</td>\n",
       "      <td>https://via.placeholder.com/600/f66b97</td>\n",
       "      <td>https://via.placeholder.com/150/f66b97</td>\n",
       "    </tr>\n",
       "  </tbody>\n",
       "</table>\n",
       "</div>"
      ],
      "text/plain": [
       "   albumId  Id                                              title  \\\n",
       "0        1   1  accusamus beatae ad facilis cum similique qui ...   \n",
       "1        1   2             reprehenderit est deserunt velit ipsam   \n",
       "2        1   3     officia porro iure quia iusto qui ipsa ut modi   \n",
       "3        1   4  culpa odio esse rerum omnis laboriosam volupta...   \n",
       "4        1   5  natus nisi omnis corporis facere molestiae rer...   \n",
       "\n",
       "                                      url  \\\n",
       "0  https://via.placeholder.com/600/92c952   \n",
       "1  https://via.placeholder.com/600/771796   \n",
       "2  https://via.placeholder.com/600/24f355   \n",
       "3  https://via.placeholder.com/600/d32776   \n",
       "4  https://via.placeholder.com/600/f66b97   \n",
       "\n",
       "                             thumbnailUrl  \n",
       "0  https://via.placeholder.com/150/92c952  \n",
       "1  https://via.placeholder.com/150/771796  \n",
       "2  https://via.placeholder.com/150/24f355  \n",
       "3  https://via.placeholder.com/150/d32776  \n",
       "4  https://via.placeholder.com/150/f66b97  "
      ]
     },
     "execution_count": 3,
     "metadata": {},
     "output_type": "execute_result"
    }
   ],
   "source": [
    "# Printing dataframe to verify the data from the loaded file.\n",
    "df.head()"
   ]
  },
  {
   "cell_type": "code",
   "execution_count": 4,
   "metadata": {},
   "outputs": [],
   "source": [
    "for ind, row in df.iterrows():\n",
    "    df.loc[ind,\"first_letter\"] = row['title'][0]"
   ]
  },
  {
   "cell_type": "code",
   "execution_count": 6,
   "metadata": {},
   "outputs": [
    {
     "data": {
      "text/html": [
       "<div>\n",
       "<style scoped>\n",
       "    .dataframe tbody tr th:only-of-type {\n",
       "        vertical-align: middle;\n",
       "    }\n",
       "\n",
       "    .dataframe tbody tr th {\n",
       "        vertical-align: top;\n",
       "    }\n",
       "\n",
       "    .dataframe thead th {\n",
       "        text-align: right;\n",
       "    }\n",
       "</style>\n",
       "<table border=\"1\" class=\"dataframe\">\n",
       "  <thead>\n",
       "    <tr style=\"text-align: right;\">\n",
       "      <th></th>\n",
       "      <th>albumId</th>\n",
       "      <th>Id</th>\n",
       "      <th>title</th>\n",
       "      <th>url</th>\n",
       "      <th>thumbnailUrl</th>\n",
       "      <th>first_letter</th>\n",
       "    </tr>\n",
       "  </thead>\n",
       "  <tbody>\n",
       "    <tr>\n",
       "      <th>0</th>\n",
       "      <td>1</td>\n",
       "      <td>1</td>\n",
       "      <td>accusamus beatae ad facilis cum similique qui ...</td>\n",
       "      <td>https://via.placeholder.com/600/92c952</td>\n",
       "      <td>https://via.placeholder.com/150/92c952</td>\n",
       "      <td>a</td>\n",
       "    </tr>\n",
       "    <tr>\n",
       "      <th>1</th>\n",
       "      <td>1</td>\n",
       "      <td>2</td>\n",
       "      <td>reprehenderit est deserunt velit ipsam</td>\n",
       "      <td>https://via.placeholder.com/600/771796</td>\n",
       "      <td>https://via.placeholder.com/150/771796</td>\n",
       "      <td>r</td>\n",
       "    </tr>\n",
       "    <tr>\n",
       "      <th>2</th>\n",
       "      <td>1</td>\n",
       "      <td>3</td>\n",
       "      <td>officia porro iure quia iusto qui ipsa ut modi</td>\n",
       "      <td>https://via.placeholder.com/600/24f355</td>\n",
       "      <td>https://via.placeholder.com/150/24f355</td>\n",
       "      <td>o</td>\n",
       "    </tr>\n",
       "    <tr>\n",
       "      <th>3</th>\n",
       "      <td>1</td>\n",
       "      <td>4</td>\n",
       "      <td>culpa odio esse rerum omnis laboriosam volupta...</td>\n",
       "      <td>https://via.placeholder.com/600/d32776</td>\n",
       "      <td>https://via.placeholder.com/150/d32776</td>\n",
       "      <td>c</td>\n",
       "    </tr>\n",
       "    <tr>\n",
       "      <th>4</th>\n",
       "      <td>1</td>\n",
       "      <td>5</td>\n",
       "      <td>natus nisi omnis corporis facere molestiae rer...</td>\n",
       "      <td>https://via.placeholder.com/600/f66b97</td>\n",
       "      <td>https://via.placeholder.com/150/f66b97</td>\n",
       "      <td>n</td>\n",
       "    </tr>\n",
       "  </tbody>\n",
       "</table>\n",
       "</div>"
      ],
      "text/plain": [
       "   albumId  Id                                              title  \\\n",
       "0        1   1  accusamus beatae ad facilis cum similique qui ...   \n",
       "1        1   2             reprehenderit est deserunt velit ipsam   \n",
       "2        1   3     officia porro iure quia iusto qui ipsa ut modi   \n",
       "3        1   4  culpa odio esse rerum omnis laboriosam volupta...   \n",
       "4        1   5  natus nisi omnis corporis facere molestiae rer...   \n",
       "\n",
       "                                      url  \\\n",
       "0  https://via.placeholder.com/600/92c952   \n",
       "1  https://via.placeholder.com/600/771796   \n",
       "2  https://via.placeholder.com/600/24f355   \n",
       "3  https://via.placeholder.com/600/d32776   \n",
       "4  https://via.placeholder.com/600/f66b97   \n",
       "\n",
       "                             thumbnailUrl first_letter  \n",
       "0  https://via.placeholder.com/150/92c952            a  \n",
       "1  https://via.placeholder.com/150/771796            r  \n",
       "2  https://via.placeholder.com/150/24f355            o  \n",
       "3  https://via.placeholder.com/150/d32776            c  \n",
       "4  https://via.placeholder.com/150/f66b97            n  "
      ]
     },
     "execution_count": 6,
     "metadata": {},
     "output_type": "execute_result"
    }
   ],
   "source": [
    "df.head()"
   ]
  },
  {
   "cell_type": "markdown",
   "metadata": {},
   "source": [
    "####  Grouping all the photos based on the first letter of their title and calculating the number of photos in each category"
   ]
  },
  {
   "cell_type": "code",
   "execution_count": 5,
   "metadata": {
    "scrolled": true
   },
   "outputs": [
    {
     "data": {
      "text/plain": [
       "h     36\n",
       "b     45\n",
       "t     97\n",
       "l     99\n",
       "f    101\n",
       "p    150\n",
       "u    154\n",
       "o    175\n",
       "m    205\n",
       "r    229\n",
       "c    243\n",
       "s    325\n",
       "i    343\n",
       "d    349\n",
       "v    350\n",
       "n    360\n",
       "q    445\n",
       "a    499\n",
       "e    795\n",
       "Name: first_letter, dtype: int64"
      ]
     },
     "execution_count": 5,
     "metadata": {},
     "output_type": "execute_result"
    }
   ],
   "source": [
    "chart_data = df.first_letter.value_counts().sort_values()\n",
    "chart_data"
   ]
  },
  {
   "cell_type": "markdown",
   "metadata": {},
   "source": [
    "### Plotting a Bar chart to show the number of photos with each starting letter."
   ]
  },
  {
   "cell_type": "code",
   "execution_count": 6,
   "metadata": {
    "scrolled": true
   },
   "outputs": [
    {
     "data": {
      "image/png": "[encoded data removed]",
      "text/plain": [
       "<Figure size 432x288 with 1 Axes>"
      ]
     },
     "metadata": {
      "needs_background": "light"
     },
     "output_type": "display_data"
    }
   ],
   "source": [
    "chart_data.plot.bar()\n",
    "plt.title('number of photos with each starting letter')\n",
    "plt.xlabel('first letter category')\n",
    "plt.ylabel('number of photos')\n",
    "plt.xticks(rotation = 360);"
   ]
  },
  {
   "cell_type": "markdown",
   "metadata": {},
   "source": [
    "    Most of the image titles are starting with letter 'e' and least with letter 'h'"
   ]
  }
 ],
 "metadata": {
  "kernelspec": {
   "display_name": "Python 3",
   "language": "python",
   "name": "python3"
  },
  "language_info": {
   "codemirror_mode": {
    "name": "ipython",
    "version": 3
   },
   "file_extension": ".py",
   "mimetype": "text/x-python",
   "name": "python",
   "nbconvert_exporter": "python",
   "pygments_lexer": "ipython3",
   "version": "3.7.3"
  }
 },
 "nbformat": 4,
 "nbformat_minor": 2
}
